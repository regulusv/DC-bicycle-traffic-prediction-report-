{
 "cells": [
  {
   "cell_type": "markdown",
   "metadata": {},
   "source": [
    "# DC-Biking State Usage Prediction Based On Weather\n",
    "\n",
    "### 15688 Team Project \n",
    "\n",
    "Bowen Yang (boweny1), I-Huei Huang (ihueih), Gilbert Gao (bog)"
   ]
  },
  {
   "cell_type": "markdown",
   "metadata": {
    "collapsed": true
   },
   "source": [
    "# Motivation\n",
    "Traffic flow prediction can be difficult because of its randomness natural. However, if we can predict the bike requirements, it will be helpful to schedule bikes for a bike rental system. In our team project, we will leverage the dataset provided by [Capital Bikeshare](https://www.capitalbikeshare.com/) system located at Washington D.C. as well as the historical weather data queried from the [Weather Underground history API](https://www.wunderground.com/weather/api/d/docs?d=data/history) .\n",
    "\n",
    "By combining these data together, we plan to build a machine learning model that take historical bike using data and weather information as input and make prediction on total number of bikes required in Washington D.C. based on features of weather and the location of the bike station."
   ]
  },
  {
   "cell_type": "markdown",
   "metadata": {},
   "source": [
    "# Report Contents\n",
    "* [Prerequisite](#Prerequisite)\n",
    "* [Phase 1: Clean out the history bike data](#pp1)\n",
    "* [Phase 2: Collect weather information -- weather underground API](#pp2) \n",
    "* [Phase 3: Station cluster](#pp3)\n",
    "* [Phase 4: Merging bike sharing data and weather data](#pp4)\n",
    "* [Phase 5: Feature Generation](#pp5)\n",
    "* [Phase 6: Model Selection](#pp6)\n",
    "* [Phase 7: Running the Adaboost Decision Tree Model & Result analysis](#pp7)\n",
    "* [Phase 8: Conclusion](#pp8)\n",
    "* [Reference](#pp9)"
   ]
  },
  {
   "cell_type": "markdown",
   "metadata": {},
   "source": [
    "# Prerequisite\n",
    "Download [history data from 2011 to 2015](https://s3.amazonaws.com/capitalbikeshare-data/index.html) from [Capital BikeShare](https://www.capitalbikeshare.com/trip-history-data).\n",
    "\n",
    "Since the dataset is located in s3 storage, after configure the AWS Command Line Interface, we can download the whole dataset in a single line:\n",
    "\n",
    "`$ aws s3 cp s3://capitalbikeshare-data . --recursive`\n"
   ]
  },
  {
   "cell_type": "markdown",
   "metadata": {},
   "source": [
    "# Phase 1: Clean out the history bike data <a id = \"pp1\"></a>"
   ]
  },
  {
   "cell_type": "markdown",
   "metadata": {},
   "source": [
    "Then we can start to clean out the history bike data. \n",
    "\n",
    "First we need to parse the station information from the XML file downloaded in the website. "
   ]
  },
  {
   "cell_type": "code",
   "execution_count": 1,
   "metadata": {
    "collapsed": false
   },
   "outputs": [
    {
     "name": "stderr",
     "output_type": "stream",
     "text": [
      "/Users/Gilbert1/anaconda3/envs/Python27/lib/python2.7/site-packages/sklearn/cross_validation.py:44: DeprecationWarning: This module was deprecated in version 0.18 in favor of the model_selection module into which all the refactored classes and functions are moved. Also note that the interface of the new CV iterators are different from that of this module. This module will be removed in 0.20.\n",
      "  \"This module will be removed in 0.20.\", DeprecationWarning)\n"
     ]
    }
   ],
   "source": [
    "import io, time, json\n",
    "import requests\n",
    "from bs4 import BeautifulSoup\n",
    "import pandas as pd\n",
    "import numpy as np\n",
    "import glob\n",
    "import re\n",
    "import matplotlib.pyplot as plt\n",
    "from sklearn.cluster import DBSCAN, KMeans\n",
    "from sklearn import svm\n",
    "from sklearn.tree import DecisionTreeRegressor\n",
    "from sklearn.ensemble import AdaBoostRegressor\n",
    "from sklearn import cross_validation\n",
    "import csv\n",
    "import os\n",
    "import math\n",
    "import calendar\n",
    "from datetime import datetime\n",
    "from math import log\n",
    "import plotly.plotly as py\n",
    "import plotly.tools as tls\n",
    "from pandas.tseries.holiday import USFederalHolidayCalendar as cld"
   ]
  },
  {
   "cell_type": "code",
   "execution_count": 2,
   "metadata": {
    "collapsed": false
   },
   "outputs": [],
   "source": [
    "soup = BeautifulSoup(open(\"stations.xml\"), \"lxml\")\n",
    "station_list = soup.find_all('station')"
   ]
  },
  {
   "cell_type": "markdown",
   "metadata": {},
   "source": [
    "The `station_list` is where we save all the station tag informations. We can print one of them to see what's inside to make ourselves clear about how to parse it."
   ]
  },
  {
   "cell_type": "code",
   "execution_count": 19,
   "metadata": {
    "collapsed": false
   },
   "outputs": [
    {
     "name": "stdout",
     "output_type": "stream",
     "text": [
      "<station><id>1</id><name>Eads St &amp; 15th St S</name><terminalname>31000</terminalname><lastcommwithserver>1478040900207</lastcommwithserver><lat>38.858971</lat><long>-77.05323</long><installed>true</installed><locked>false</locked><installdate>0</installdate><removaldate></removaldate><temporary>false</temporary><public>true</public><nbbikes>6</nbbikes><nbemptydocks>8</nbemptydocks><latestupdatetime>1478040899170</latestupdatetime></station>\n"
     ]
    }
   ],
   "source": [
    "print station_list[0]"
   ]
  },
  {
   "cell_type": "markdown",
   "metadata": {
    "collapsed": false
   },
   "source": [
    "Then now we can generate a dataframe to get the needed information and save into a csv file."
   ]
  },
  {
   "cell_type": "code",
   "execution_count": 5,
   "metadata": {
    "collapsed": true
   },
   "outputs": [],
   "source": [
    "result = []\n",
    "for each_tag in station_list:\n",
    "    station_dict = {}\n",
    "    station_dict['id'] = each_tag.id.string\n",
    "    station_dict['name'] = each_tag.find('name').string\n",
    "    station_dict['terminalname'] = each_tag.terminalname.string\n",
    "    station_dict['lat'] = float(each_tag.lat.string)\n",
    "    station_dict['long'] = float(each_tag.find('long').string)\n",
    "    result.append(station_dict)\n",
    "station_df = pd.DataFrame.from_dict(result)"
   ]
  },
  {
   "cell_type": "code",
   "execution_count": 6,
   "metadata": {
    "collapsed": false
   },
   "outputs": [
    {
     "name": "stdout",
     "output_type": "stream",
     "text": [
      "  id        lat       long                                        name  \\\n",
      "0  1  38.858971 -77.053230                         Eads St & 15th St S   \n",
      "1  2  38.857250 -77.053320                             18th & Eads St.   \n",
      "2  3  38.856425 -77.049232                           20th & Crystal Dr   \n",
      "3  4  38.860170 -77.049593                           15th & Crystal Dr   \n",
      "4  5  38.857866 -77.059490  Aurora Hills Community Ctr/18th & Hayes St   \n",
      "\n",
      "  terminalname  \n",
      "0        31000  \n",
      "1        31001  \n",
      "2        31002  \n",
      "3        31003  \n",
      "4        31004  \n"
     ]
    }
   ],
   "source": [
    "print station_df.head()\n",
    "station_df.to_csv('station.csv', index=False)"
   ]
  },
  {
   "cell_type": "markdown",
   "metadata": {},
   "source": [
    "Then we move to the raw bike data to parse the useful information. \n",
    "First, we need the help from `glob` to get all the data files:"
   ]
  },
  {
   "cell_type": "code",
   "execution_count": 8,
   "metadata": {
    "collapsed": true
   },
   "outputs": [],
   "source": [
    "all_historical = glob.glob(\"*-cabi-trip-history-data.csv\")"
   ]
  },
  {
   "cell_type": "markdown",
   "metadata": {},
   "source": [
    "For our analysis, we only care about when and where the bike riders start their travel. Therefore we filter out all the unuseful information for us to simplify the parsing data size."
   ]
  },
  {
   "cell_type": "code",
   "execution_count": 9,
   "metadata": {
    "collapsed": true
   },
   "outputs": [],
   "source": [
    "historical_df_list = []\n",
    "for each_file in all_historical:\n",
    "    temp_df = pd.read_csv(each_file)\n",
    "    temp_df.columns = [each.lower() for each in temp_df.columns]\n",
    "    if 'start station number' in temp_df.columns:\n",
    "        # This is a updated version of dataset\n",
    "        temp_df = temp_df[['start date','start station','start station number']]\n",
    "        historical_df_list.append(temp_df)\n",
    "    else:\n",
    "        # older ones \n",
    "        temp_df = temp_df[['start date','start station']]\n",
    "        historical_df_list.append(temp_df)"
   ]
  },
  {
   "cell_type": "markdown",
   "metadata": {},
   "source": [
    "The original data comes with multiple date format. To organize and for future merging usage, we need to parse the dates to have same output format."
   ]
  },
  {
   "cell_type": "code",
   "execution_count": 10,
   "metadata": {
    "collapsed": true
   },
   "outputs": [],
   "source": [
    "# Parse the dates\n",
    "for each_df in historical_df_list:\n",
    "    each_df['start date'] =  pd.to_datetime(each_df['start date'], infer_datetime_format = True)"
   ]
  },
  {
   "cell_type": "markdown",
   "metadata": {},
   "source": [
    "The other messy part is that some of the station name does not only contains the name, but also the changed station name (represented by '[]') and the station terminal name (represented by the '()'). So a parsing using regular expression is needed. \n",
    "\n",
    "The changed station is saved for future use."
   ]
  },
  {
   "cell_type": "code",
   "execution_count": 16,
   "metadata": {
    "collapsed": false
   },
   "outputs": [],
   "source": [
    "station_change = []\n",
    "for each_df in historical_df_list:\n",
    "    # Filter out the changed names\n",
    "    extract_start = each_df['start station'].str.extract('(?P<extracted>[^\\[\\]]+) *(?P<change>\\[[^\\[\\]]+\\])? *', expand=False)\n",
    "    new_start = extract_start.extracted.apply(lambda x: str(x).rstrip())\n",
    "    each_df['start station'] = new_start\n",
    "    # Then get the station change\n",
    "    if extract_start.shape[1] > 1:\n",
    "        station_change.append(extract_start.dropna(how='any').drop_duplicates())"
   ]
  },
  {
   "cell_type": "markdown",
   "metadata": {},
   "source": [
    "Now we started to merge the station information with the historical travel data."
   ]
  },
  {
   "cell_type": "code",
   "execution_count": 17,
   "metadata": {
    "collapsed": false
   },
   "outputs": [
    {
     "name": "stdout",
     "output_type": "stream",
     "text": [
      "Index([u'id', u'lat', u'long', u'name', u'terminalname'], dtype='object')\n",
      "lat             float64\n",
      "long            float64\n",
      "name             object\n",
      "terminalname      int64\n",
      "dtype: object\n",
      "start date              datetime64[ns]\n",
      "start station                   object\n",
      "start station number             int64\n",
      "dtype: object\n"
     ]
    }
   ],
   "source": [
    "station_df = pd.read_csv('station.csv')\n",
    "print station_df.columns\n",
    "useful_station_df = station_df[[u'lat', u'long', u'name', u'terminalname']]\n",
    "print useful_station_df.dtypes\n",
    "print historical_df_list[-1].dtypes"
   ]
  },
  {
   "cell_type": "markdown",
   "metadata": {},
   "source": [
    "The data sets are not consistant for all these years. Some of the "
   ]
  },
  {
   "cell_type": "code",
   "execution_count": 20,
   "metadata": {
    "collapsed": false
   },
   "outputs": [],
   "source": [
    "combined = []\n",
    "# Find the useful information from the station_df\n",
    "for each_df in historical_df_list:\n",
    "    if \"start station number\" in each_df.columns:\n",
    "        # merge on the numbers\n",
    "        merged = each_df.merge(useful_station_df, left_on='start station number', right_on='terminalname', how='inner')\n",
    "        combined.append(merged[['start date','start station','terminalname', 'lat', 'long']])\n",
    "    else:\n",
    "        # have to merge on the names:\n",
    "        merged = each_df.merge(useful_station_df, left_on='start station', right_on='name', how='inner')\n",
    "        combined.append(merged[['start date','start station','terminalname', 'lat', 'long']])"
   ]
  },
  {
   "cell_type": "markdown",
   "metadata": {},
   "source": [
    "After merging, we can `concat` the list of dataframes and generate a master dataset for future usage. "
   ]
  },
  {
   "cell_type": "code",
   "execution_count": 21,
   "metadata": {
    "collapsed": false
   },
   "outputs": [
    {
     "name": "stdout",
     "output_type": "stream",
     "text": [
      "(11815281, 5)\n"
     ]
    }
   ],
   "source": [
    "total_df = pd.concat(combined)\n",
    "print total_df.shape"
   ]
  },
  {
   "cell_type": "code",
   "execution_count": null,
   "metadata": {
    "collapsed": true
   },
   "outputs": [],
   "source": [
    "total_df.to_csv(\"merged_data.csv\", index = False, date_format =\"%m/%d/%Y %H:%M\")"
   ]
  },
  {
   "cell_type": "markdown",
   "metadata": {},
   "source": [
    "So now we have a historical travel dataset ready for merge and future manipulation. \n",
    "\n",
    "We are curious about how the weather information have influence the usage of the bike trips. Since we now have the travel data, we can move to the weather data retrieving. "
   ]
  },
  {
   "cell_type": "markdown",
   "metadata": {},
   "source": [
    "# Phase 2: Collect weather information -- weather underground API  <a id = \"pp2\"></a>\n",
    "We collect historical weather information from 2011 to 2015 by calling history weather API on [Weather Underground](https://www.wunderground.com/weather/api/d/docs?d=data/history).\n",
    "After downloading [history data from 2011 to 2015](https://s3.amazonaws.com/capitalbikeshare-data/index.html) from [Capital BikeShare](https://www.capitalbikeshare.com/trip-history-data), and applied API form wunderground.com. We extract the start date of each trip and call the API:\n",
    "    __http://api.wunderground.com/api/{APIkey}/history_YYYYMMDD/q/DC.json__\n",
    "to get the weather information in that day. And then, we parse the json format to get the weather at an exact hour in that day.\n",
    "The following is the python script we used in this process:"
   ]
  },
  {
   "cell_type": "markdown",
   "metadata": {},
   "source": [
    "First we include the packages we need:"
   ]
  },
  {
   "cell_type": "code",
   "execution_count": null,
   "metadata": {
    "collapsed": true
   },
   "outputs": [],
   "source": [
    "import requests\n",
    "import json\n",
    "import csv\n",
    "import time"
   ]
  },
  {
   "cell_type": "markdown",
   "metadata": {},
   "source": [
    "Then, we extract the weather information from 2011 to 2015 by calling weather undergound history API."
   ]
  },
  {
   "cell_type": "code",
   "execution_count": null,
   "metadata": {
    "collapsed": true
   },
   "outputs": [],
   "source": [
    "key = 'your_api_key'\n",
    "years = ['2011', '2012', '2013', '2014', '2015']\n",
    "seasons = ['Q1', 'Q2', 'Q3', 'Q4']\n",
    "\n",
    "for y in years:\n",
    "    for s in seasons:\n",
    "        # create log file\n",
    "        logfile = \"weather/log_\" + y + \"_\" + s + \".txt\"\n",
    "        log = open(logfile, \"wb\")\n",
    "        \n",
    "        # create read and write file\n",
    "        rfile = 'data/' + y + '-' + s + '-cabi-trip-history-data.csv'\n",
    "        wfile = 'weather/' + rfile.split('/')[1].split('.')[0] +  '-weather.csv'\n",
    "        csvrfile = open(rfile, 'rb')\n",
    "        csvwfile = open(wfile, 'wb')\n",
    "        \n",
    "        # read csv file\n",
    "        reader = csv.DictReader(csvrfile)\n",
    "        rfieldnames = reader.fieldnames\n",
    "        \n",
    "        # write csv file\n",
    "        wfieldnames = ['Start date', 'Weather type', 'Temperature', 'Humidity', 'Wind speed']\n",
    "        writer = csv.DictWriter(csvwfile, fieldnames=wfieldnames)\n",
    "        writer.writeheader()\n",
    "        \n",
    "        # store the time we have already visited to increase performance\n",
    "        visit = set()\n",
    "        for row in reader:\n",
    "            d = {}\n",
    "            # check the format of the date is valid: MM/DD/YYYY hh:mm\n",
    "            if '/' not in row['Start date']:\n",
    "                date_and_time = row['Start date'].split()\n",
    "                mdate = date_and_time[0]\n",
    "                num = mdate.split('-')\n",
    "                mdate = num[1] + '/' + num[2] + '/' + num[0]\n",
    "                mtime = date_and_time[1]\n",
    "                row['Start date'] = mdate + ' ' + mtime\n",
    "                \n",
    "            # extract the date we need to call weather API    \n",
    "            t = row['Start date']\n",
    "            t = t.split()\n",
    "\n",
    "            try:\n",
    "                date = t[0].split('/') \n",
    "                year = int(date[2])\n",
    "                mon = int(date[0])\n",
    "                mday = int(date[1])\n",
    "                date = str(year) + '%02d' % mon + '%02d' % mday\n",
    "                t = t[1].split(':')\n",
    "                hour = int(t[0])\n",
    "                key = date + \":\" + str(hour)\n",
    "                if key in visit:\n",
    "                    continue\n",
    "                visit.add(key)\n",
    "            except:\n",
    "                print row['Start date']\n",
    "                continue\n",
    "            \n",
    "            # begin to call weather API\n",
    "            get = False\n",
    "            while not get:\n",
    "                try:\n",
    "                    url = 'http://api.wunderground.com/api/' + key + '/history_' + date + '/q/DC.json'\n",
    "                    r = requests.get(url)\n",
    "                    parsed_json = json.loads(r.text)\n",
    "                    observations = parsed_json[\"history\"][\"observations\"]\n",
    "                    get = True\n",
    "                except:\n",
    "                    time.sleep(100)\n",
    "        \n",
    "            # find the weather information at the exact hour we need\n",
    "            for info in observations:\n",
    "\n",
    "                if int(info[\"date\"][\"year\"]) == year and int(info[\"date\"][\"mon\"]) == mon and int(\n",
    "                        info[\"date\"][\"mday\"]) == mday and int(info[\"date\"][\"hour\"]) == hour:\n",
    "                    try:\n",
    "                        d['Weather type'] = info[\"icon\"]\n",
    "                        d['Temperature'] = info[\"tempm\"]\n",
    "                        d['Humidity'] = float(info[\"hum\"]) / 100\n",
    "                        d['Wind speed'] = info[\"wspdm\"]\n",
    "                    except:\n",
    "                        print year, mon, mday, hour\n",
    "                        print info[\"icon\"]\n",
    "                        print info[\"tempm\"]\n",
    "                        print info[\"hum\"]\n",
    "                        print info[\"wspdm\"]\n",
    "                    break\n",
    "                \n",
    "            d['Start date'] = row['Start date'].split(':')[0]\n",
    "            \n",
    "            # If the data is missing, we discard the record, else write it to output file\n",
    "            if len(d) != 5:\n",
    "                print date + \":\" + str(hour)\n",
    "                log.write(date + \":\" + str(hour)+ \"\\n\")\n",
    "            else:\n",
    "                writer.writerow(d)\n",
    "                \n",
    "        print y + \"-\" + s + \" finished\"\n",
    "        log.write(y + \"-\" + s + \" finished\\n\")"
   ]
  },
  {
   "cell_type": "markdown",
   "metadata": {},
   "source": [
    "The weather information collected is with the following format:\n",
    "\n",
    "|  Start date     |  Weather Type\t|   Temperature   |    Humidity     |   Wind Speed    |\n",
    "|:---------------:|:---------------:|:---------------:|:---------------:|:---------------:|\n",
    "| 01/01/2014 0    |\t    clear\t    |      1.1\t      |       0.46      |   0             |\n",
    "| 01/01/2014 1\t  |    partlycloudy |      -1.1\t      |       0.61      |   13            |\n",
    "| 01/01/2014 2\t  |    partlycloudy |      -0.6\t      |       0.57      |   5.6           |"
   ]
  },
  {
   "cell_type": "markdown",
   "metadata": {},
   "source": [
    "After we collect all the data, we need to encode Weather Type to convert to numerical data."
   ]
  },
  {
   "cell_type": "code",
   "execution_count": null,
   "metadata": {
    "collapsed": true
   },
   "outputs": [],
   "source": [
    "import os\n",
    "import pandas as pd\n",
    "dname = \"./data/weather\"\n",
    "data = pd.DataFrame()\n",
    "filenames = [fname for fname in os.listdir(dname) if fname.endswith(\".csv\")]\n",
    "columns = ['Start date', 'Weather type', 'Temperature', 'Humidity', 'Wind speed']\n",
    "lst = []\n",
    "for filename in filenames:\n",
    "    frame = pd.read_csv(filename, index_col=None, header=0, low_memory=False)\n",
    "    frame = frame.dropna()\n",
    "    data = data.append(frame, ignore_index=True)\n",
    "\n",
    "\n",
    "print \"concat\"\n",
    "print data.head()\n",
    "types = set(data['Weather type'])\n",
    "print types\n",
    "data = data.dropna()\n",
    "data = data[data['Weather type'] != \"unknown\"]\n",
    "types = set(data['Weather type'])\n",
    "type_map = {}\n",
    "print types\n",
    "\n",
    "for i, type in enumerate(list(types)):\n",
    "    type_map[type] = i\n",
    "encode_type = lambda x : type_map[x]\n",
    "\n",
    "encode = \"./data/weather/merged/encode.txt\"\n",
    "wfile = open(encode, \"wb\")\n",
    "wfile.write(str(type_map))\n",
    "\n",
    "print data.head()\n",
    "data['Weather type'] = data['Weather type'].apply(encode_type)\n",
    "print data.head()\n",
    "data.to_csv(\"./data/weather/merged/weather.csv\", index=False)\n",
    "print len(data)"
   ]
  },
  {
   "cell_type": "markdown",
   "metadata": {},
   "source": [
    "We convert the weather type through the mapping below:\n",
    "\n",
    "|  Weather Type   |    Type Label\t|\n",
    "|:---------------:|:---------------:|\n",
    "|  mostlycloudy   |\t       0        |\n",
    "|  partlycloudy   |        1        |\n",
    "|      clear      |        2        |\n",
    "|      snow       |        3        |\n",
    "|     cloudy      |        4        |\n",
    "|      hazy       |        5        |\n",
    "|     sleet       |        6        |\n",
    "|    tstorms      |        7        |\n",
    "|      fog        |        8        |\n",
    "|      rain       |        9        |     "
   ]
  },
  {
   "cell_type": "markdown",
   "metadata": {},
   "source": [
    "# Phase 3: Station cluster <a id = \"pp3\"></a>\n",
    "\n",
    "There are so many stations in the District of Columbia, and they are growing through out the time. It will be difficult and not realistic for us to generate a prediction for all the stations. \n",
    "\n",
    "However, we still want to know a district-related information. So we make our decision to do a k-means cluster. \n",
    "\n",
    "First we need to check the geographic distribution of the stations."
   ]
  },
  {
   "cell_type": "code",
   "execution_count": 5,
   "metadata": {
    "collapsed": false
   },
   "outputs": [
    {
     "data": {
      "image/png": "[encoded data removed]",
      "text/plain": [
       "<matplotlib.figure.Figure at 0x10885ded0>"
      ]
     },
     "metadata": {},
     "output_type": "display_data"
    }
   ],
   "source": [
    "data = pd.read_csv(\"merged_data.csv\", parse_dates=[0], infer_datetime_format=True)\n",
    "stations = data[['start station', 'terminalname', 'lat', 'long']]\n",
    "stations_unique = stations.drop_duplicates()\n",
    "# To be change to draw picture on map\n",
    "plt.figure(figsize=(14, 14))\n",
    "plt.title('All data points, number of samples: %d' %len(stations_unique))\n",
    "plt.scatter(stations_unique['long'], stations_unique.lat)\n",
    "plt.show()"
   ]
  },
  {
   "cell_type": "markdown",
   "metadata": {},
   "source": [
    "As we all know, the K-means algorithm is inconsistant on doing clusters, so we tried multiple times on the clustering and manually pick the best one we find makes sense as our result.\n",
    "\n",
    "The following code is just a present of how we generate the cluster. The cluster we used is loaded and plotted later."
   ]
  },
  {
   "cell_type": "code",
   "execution_count": 6,
   "metadata": {
    "collapsed": false
   },
   "outputs": [
    {
     "data": {
      "image/png": "[encoded data removed]",
      "text/plain": [
       "<matplotlib.figure.Figure at 0x1041d6d90>"
      ]
     },
     "metadata": {},
     "output_type": "display_data"
    }
   ],
   "source": [
    "data = stations_unique[['long', 'lat']]\n",
    "kmeans = KMeans(n_clusters=10)\n",
    "colors = np.array([x for x in 'bgrcmykbgrcmykbgrcmykbgrcmyk'])\n",
    "colors = np.hstack([colors] * 20)\n",
    "kmeans_label = kmeans.fit_predict(data)\n",
    "plt.figure(figsize=(14, 14))\n",
    "plt.scatter(data['long'], data['lat'], color=colors[kmeans_label].tolist())\n",
    "plt.show()\n"
   ]
  },
  {
   "cell_type": "code",
   "execution_count": 3,
   "metadata": {
    "collapsed": false
   },
   "outputs": [
    {
     "data": {
      "image/png": "[encoded data removed]",
      "text/plain": [
       "<matplotlib.figure.Figure at 0x110f9f150>"
      ]
     },
     "metadata": {},
     "output_type": "display_data"
    }
   ],
   "source": [
    "import matplotlib.patches as mpatches\n",
    "\n",
    "stations_unique = stations_unique.assign(label = kmeans_label)\n",
    "\n",
    "# stations_unique.to_csv(\"station_with_label.csv\", index=False)\n",
    "stations_unique = pd.read_csv(\"station_with_label.csv\")\n",
    "\n",
    "# plot refined_cluster\n",
    "refined_cluster = pd.read_csv(\"station_with_label.csv\")\n",
    "colors = np.array(['red', 'green', 'blue', 'black', 'cyan', 'yellow', 'purple', 'magenta', 'lime', 'orange'])\n",
    "plt.figure(figsize=(14, 14))\n",
    "\n",
    "plt.scatter(refined_cluster['long'], refined_cluster['lat'], color=colors[refined_cluster['label']].tolist())\n",
    "p_list = []\n",
    "clss = []\n",
    "for c in colors:\n",
    "    p = plt.Rectangle((0, 0), 0.0, 0.0, fc=c)\n",
    "    p_list.append(p)\n",
    "    \n",
    "plt.legend(p_list, ('cluster 0','cluster 1','cluster 2','cluster 3','cluster 4','cluster 5',\n",
    "                     'cluster 6','cluster 7','cluster 8', 'cluster 9'), loc='best')\n",
    "# plt.scatter(lg, lt, c = cls)\n",
    "plt.show()"
   ]
  },
  {
   "cell_type": "markdown",
   "metadata": {
    "collapsed": false
   },
   "source": [
    "<img src=\"graph/dc_gmap.png\">"
   ]
  },
  {
   "cell_type": "markdown",
   "metadata": {},
   "source": [
    "Compare diagram of clusters and D.C. map from Google Map with same map scale, we could have a intuitive view of which cluster belongs to suburb and which cluster belongs to city, the view would help for our analysis in the later phase."
   ]
  },
  {
   "cell_type": "markdown",
   "metadata": {},
   "source": [
    "# Phase 4: Merging bike sharing data and weather data <a id = \"pp4\"></a>\n",
    "\n",
    "Now we have the stations label for each label. But for each of the data point, we haven't assign the corelated cluster label to it yet. So the first step of the merging is to merge label to each data point.\n",
    "\n"
   ]
  },
  {
   "cell_type": "code",
   "execution_count": 8,
   "metadata": {
    "collapsed": false
   },
   "outputs": [
    {
     "name": "stdout",
     "output_type": "stream",
     "text": [
      "           start date   start station  terminalname       lat      long  label\n",
      "0 2010-12-31 20:02:00  17th & K St NW         31213  38.90276 -77.03863      5\n",
      "1 2010-12-31 17:37:00  17th & K St NW         31213  38.90276 -77.03863      5\n",
      "2 2010-12-31 13:54:00  17th & K St NW         31213  38.90276 -77.03863      5\n",
      "3 2010-12-31 11:49:00  17th & K St NW         31213  38.90276 -77.03863      5\n",
      "4 2010-12-31 11:50:00  17th & K St NW         31213  38.90276 -77.03863      5\n"
     ]
    }
   ],
   "source": [
    "alldata = pd.read_csv(\"merged_data.csv\", parse_dates=[0], infer_datetime_format=True)\n",
    "useful_for_merge = stations_unique[['terminalname', 'label']]\n",
    "merged = alldata.merge(useful_for_merge, on='terminalname', how='inner')\n",
    "print merged.head()"
   ]
  },
  {
   "cell_type": "markdown",
   "metadata": {},
   "source": [
    "As we mentioned at the very beginning of this report, we are trying to predict all the bicycle usage of a certain area in a time range. Yet up to now, all we have is every single using record of every trip record. \n",
    "\n",
    "So now what we will do is to aggregate the trip record in every single hour. We use the time which is accurate to every hour as the column we use to do the aggregation. Then we count the number of trips in each cluster in each hour and output the result."
   ]
  },
  {
   "cell_type": "code",
   "execution_count": 9,
   "metadata": {
    "collapsed": true
   },
   "outputs": [],
   "source": [
    "picked = merged[['start date', 'terminalname', 'label']]\n",
    "# picked.to_csv(\"data_with_label.csv\", index=False, date_format =\"%m/%d/%Y %H\")\n",
    "date_string = picked['start date'].apply(lambda x: x.strftime(\"%m/%d/%Y %H\"))\n",
    "to_be_agg = picked.assign(date = date_string)\n",
    "to_be_agg_small = to_be_agg[['label', 'date']]\n",
    "new_group_by_date_label = pd.DataFrame({'count' : to_be_agg_small.groupby(['date', 'label']).size()}).reset_index()"
   ]
  },
  {
   "cell_type": "markdown",
   "metadata": {},
   "source": [
    "One more thing which is good on aggregate on hour is that the hourly aggregated information can meet the weather data we gathered in previous phase. Since we could only get the hourly weather, it is the best choice for us to merge the bicycle data with weather on the hour.\n",
    "\n",
    "So the following is how we merge the weather data with the bicycle usage count data."
   ]
  },
  {
   "cell_type": "code",
   "execution_count": 10,
   "metadata": {
    "collapsed": true
   },
   "outputs": [],
   "source": [
    "weather = pd.read_csv(\"weather.csv\", parse_dates=[0], infer_datetime_format=True)\n",
    "weather_date_string = weather['Start date'].apply(lambda x: x.strftime(\"%m/%d/%Y %H\"))\n",
    "weather_with_string = weather.assign(date = weather_date_string)\n",
    "weather_to_be_merged = weather_with_string[[\"date\",\"Weather type\", \"Temperature\", \"Humidity\" ,\"Wind speed\"]]\n",
    "final_merged = new_group_by_date_label.merge(weather_to_be_merged, on = 'date', how='inner')\n",
    "# final_merged.to_csv(\"data_with_label_and_weather.csv\", index=False)"
   ]
  },
  {
   "cell_type": "markdown",
   "metadata": {},
   "source": [
    "Now we have the data with both cluster label and weather information. But for the ease of our analysis, we also want to see the data of all the bicycles at D.C. at every hour. Therefore we need to merge all the clusters together for each hour. That's exactly what we do now."
   ]
  },
  {
   "cell_type": "code",
   "execution_count": 14,
   "metadata": {
    "collapsed": false
   },
   "outputs": [
    {
     "name": "stdout",
     "output_type": "stream",
     "text": [
      "      newdate hour  count_sum  Weather type  Temperature  Humidity  Wind speed\n",
      "0  01/01/2011   01          1             2          2.2      0.82         0.0\n",
      "1  01/01/2011   13          4             4         14.0      0.77        18.5\n",
      "2  01/01/2011   14          1             4         12.8      0.77        20.4\n",
      "3  01/01/2011   15          2             4         11.7      0.83        20.4\n",
      "4  01/01/2011   16          2             4         12.0      0.82        20.4\n"
     ]
    }
   ],
   "source": [
    "data = pd.read_csv(\"data_with_label_and_weather.csv\", parse_dates=[0], infer_datetime_format=True)\n",
    "sub_data = data[[\"date\", \"count\"]]\n",
    "new_group_by_date = pd.DataFrame({'count_sum' : sub_data.groupby(['date'])['count'].sum()}).reset_index()\n",
    "data_date_string = new_group_by_date['date'].apply(lambda x: x.strftime(\"%m/%d/%Y %H\"))\n",
    "data_with_string = new_group_by_date.assign(date_str = weather_date_string)\n",
    "data_to_be_merged = data_with_string[[\"date_str\", \"count_sum\"]]\n",
    "\n",
    "simple_merge = new_group_by_date.merge(weather, left_on=\"date\", right_on=\"Start date\", how = 'inner')\n",
    "hour = simple_merge['date'].apply(lambda x: x.strftime(\"%H\"))\n",
    "newdate = simple_merge['date'].apply(lambda x: x.strftime(\"%m/%d/%Y\"))\n",
    "simple_merge_add = simple_merge.assign(hour = hour, newdate = newdate)\n",
    "output_data = simple_merge_add[[\"newdate\", \"hour\",\"count_sum\", \"Weather type\", \"Temperature\", \"Humidity\", \"Wind speed\"]]\n",
    "# output_data.to_csv(\"city_wise_data_with_weather.csv\", index=False)\n",
    "print output_data.head()"
   ]
  },
  {
   "cell_type": "markdown",
   "metadata": {},
   "source": [
    "For easily analyze each cluster, we also generated the data for each cluster. "
   ]
  },
  {
   "cell_type": "code",
   "execution_count": 13,
   "metadata": {
    "collapsed": false
   },
   "outputs": [
    {
     "name": "stdout",
     "output_type": "stream",
     "text": [
      "        newdate hour  label  count  Weather type  Temperature  Humidity  \\\n",
      "294  01/01/2014   09      9      1             4          2.8      0.52   \n",
      "303  01/01/2014   10      9      1             1          4.4      0.53   \n",
      "311  01/01/2014   11      9      1             0          5.0      0.55   \n",
      "337  01/01/2014   14      9      5             0          8.9      0.44   \n",
      "346  01/01/2014   15      9      2             0          8.9      0.48   \n",
      "\n",
      "     Wind speed  \n",
      "294        13.0  \n",
      "303        16.7  \n",
      "311        13.0  \n",
      "337        13.0  \n",
      "346        14.8  \n"
     ]
    }
   ],
   "source": [
    "data = pd.read_csv(\"data_with_label_and_weather.csv\", parse_dates=[0], infer_datetime_format=True)\n",
    "hour = data['date'].apply(lambda x: x.strftime(\"%H\"))\n",
    "newdate = data['date'].apply(lambda x: x.strftime(\"%m/%d/%Y\"))\n",
    "new_data = data.assign(hour = hour, newdate = newdate)\n",
    "selected = new_data[[\"newdate\", \"hour\", \"label\", \"count\", \"Weather type\", \"Temperature\", \"Humidity\", \"Wind speed\"]]\n",
    "result = []\n",
    "for i in range(10):\n",
    "    each = selected[selected['label'] == i]\n",
    "#     each.to_csv(\"cluster_\"+ str(i) +\"_data_with_weather.csv\", index=False)\n",
    "print each.head()"
   ]
  },
  {
   "cell_type": "markdown",
   "metadata": {},
   "source": [
    "# Phase 5: Feature Generation <a id = \"pp5\"></a>\n",
    "\n",
    "Since we have all the data now, we need to feed in the model in a right way. There are several aspect we need to consider here. \n",
    "\n",
    "First, we want to take the date related features out. \n",
    "\n",
    "Second, we would like to normalize the input data\n",
    "\n",
    "Last, we need to have all the train and test functions\n",
    "\n",
    "We generate the following features from our data:\n",
    "\n",
    "|  feature #  |  feature name     |   data type    |         description                |  \n",
    "|:-----------:|:-----------------:|:--------------:|:----------------------------------:|\n",
    "|      1      |  weather_type     |     int        | encoded weather type               |\n",
    "|      2      |    year           |     int        | encoded year (year - 2010)         |\n",
    "|      3      |    label          |     int        | cluster ID                         |\n",
    "|      4      |    weekday        |     int        | weekday(1) or weekend(0)           |\n",
    "|      5      |    holiday        |     int        | US holiday(1) or not US holiday(0) |\n",
    "|      6      |  temperature      |    float       | normalized temperature             |\n",
    "|      7      |  humidity         |    float       | normalized humidity                |\n",
    "|      8      |  wind_speed       |    float       | normalized wind speed              |\n",
    "|      9      |  day_of_year      |    float       | sin and cos values                 |\n",
    "|      10      |  day_of_week      |    float       | sin and cos values                 |\n",
    "|      11     |  hour_of_day      |    float       | sin and cos values                 |\n",
    "|      12     |  month_of_year    |    float       | sin and cos values                 |\n",
    "\n",
    "Note that for temperature, humidity and wind speed, we take the normalized value (divided by the maximum value).\n",
    "\n",
    "Since time is a cyclic variable, we use a sine/cosine transformation. Suppose we have a feature of value f that ranges from 0 to N. Then, the sine and cosine transformation would be $\\sin\\left(2\\pi \\frac{f}{N}\\right)$ and $\\cos\\left(2\\pi \\frac{f}{N}\\right)$\n",
    "\n"
   ]
  },
  {
   "cell_type": "code",
   "execution_count": 20,
   "metadata": {
    "collapsed": true
   },
   "outputs": [],
   "source": [
    "def convert_type(df):\n",
    "    df['date'] = pd.to_datetime(df['date'], format=\"%m/%d/%Y\")\n",
    "    return df\n",
    "\n",
    "def calculate_mse(x, y):\n",
    "    return ((x - y) ** 2).mean()\n",
    "\n",
    "def extract_year_range(df, start_year, start_month, end_year, end_month):\n",
    "    return df.loc[(df['date'] >= str(start_year) + '-'+ str(start_month) +'-1') & (df['date'] < str(end_year) + '-'+ str(end_month) +'-1')].reset_index(drop=True)\n",
    "\n",
    "def create_features(df):\n",
    "    feature_df = pd.DataFrame()\n",
    "    feature_df['count'] = df['count']\n",
    "    feature_df['weather_type'] = df['weather_type']\n",
    "    feature_df['label'] = df['label']\n",
    "    # normalize\n",
    "    feature_df['temperature'] = df['temperature'] / max(df['temperature'])\n",
    "    feature_df['humidity'] = df['humidity'] / max(df['humidity'])\n",
    "    feature_df['wind_speed'] = df['wind_speed'] / max(df['wind_speed'])\n",
    "    # cyclic\n",
    "    feature_df['sin_day_of_year'] = df['date'].map(lambda time: math.sin(\n",
    "        2 * math.pi * datetime.date(time.to_datetime()).timetuple().tm_yday / 366) if calendar.isleap(\n",
    "        time.to_datetime().year) else math.sin(\n",
    "        2 * math.pi * datetime.date(time.to_datetime()).timetuple().tm_yday / 365))\n",
    "    feature_df['cos_day_of_year'] = df['date'].map(lambda time: math.cos(\n",
    "        2 * math.pi * datetime.date(time.to_datetime()).timetuple().tm_yday / 366.0) if calendar.isleap(\n",
    "        time.to_datetime().year) else math.sin(\n",
    "        2 * math.pi * datetime.date(time.to_datetime()).timetuple().tm_yday / 365.0))\n",
    "    feature_df['sin_day_of_week'] = df['date'].map(\n",
    "        lambda time: math.sin(2 * math.pi * time.to_datetime().weekday() / 7.0))\n",
    "    feature_df['cos_day_of_week'] = df['date'].map(\n",
    "        lambda time: math.cos(2 * math.pi * time.to_datetime().weekday() / 7.0))\n",
    "    feature_df['sin_hour_of_day'] = df['hour'].map(\n",
    "        lambda time: math.sin(2 * math.pi * time / 24.0))\n",
    "    feature_df['cos_hour_of_day'] = df['hour'].map(\n",
    "        lambda time: math.cos(2 * math.pi * time / 24.0))\n",
    "\n",
    "    feature_df['weekday'] = df['date'].map(\n",
    "        lambda time: 1 if time.to_datetime().weekday() <= 4 else 0)\n",
    "    feature_df['year'] = df['date'].map(lambda time: time.to_datetime().year - 2010)\n",
    "    feature_df['sin_month_of_year'] = df['date'].map(lambda time: math.sin(2 * math.pi * time.to_datetime().month / 12.0))\n",
    "    feature_df['cos_month_of_year'] = df['date'].map(lambda time: math.cos(2 * math.pi * time.to_datetime().month / 12.0))\n",
    "    cal = cld()\n",
    "    holidays = cal.holidays(start=df['date'].min(), end=df['date'].max())\n",
    "    feature_df['holiday'] = df['date'].isin(holidays).astype(int)\n",
    "    return feature_df"
   ]
  },
  {
   "cell_type": "markdown",
   "metadata": {},
   "source": [
    "Now we divide the data into train and test data.\n",
    "Train is from 2012 to 2015 first half year, and test is 2015 second half year."
   ]
  },
  {
   "cell_type": "code",
   "execution_count": 22,
   "metadata": {
    "collapsed": false
   },
   "outputs": [
    {
     "name": "stdout",
     "output_type": "stream",
     "text": [
      "Index([u'newdate', u'hour', u'count_sum', u'Weather type', u'Temperature',\n",
      "       u'Humidity', u'Wind speed'],\n",
      "      dtype='object') newdate         datetime64[ns]\n",
      "hour                     int64\n",
      "count_sum                int64\n",
      "Weather type             int64\n",
      "Temperature            float64\n",
      "Humidity               float64\n",
      "Wind speed             float64\n",
      "dtype: object\n",
      "Index([u'date', u'hour', u'count', u'weather_type', u'temperature',\n",
      "       u'humidity', u'wind_speed'],\n",
      "      dtype='object')\n",
      "(29651, 16) (5118, 16)\n"
     ]
    }
   ],
   "source": [
    "data_df = pd.read_csv(\"city_wise_data_with_weather.csv\", parse_dates=[0], infer_datetime_format=True)\n",
    "print data_df.columns, data_df.dtypes\n",
    "data_df.columns = [u'date', u'hour', u'count', u'weather_type', u'temperature',\n",
    "       u'humidity', u'wind_speed']\n",
    "print data_df.columns\n",
    "\n",
    "# Divide train and test\n",
    "train = create_features(extract_year_range(data_df, 2012, 1, 2015, 6))\n",
    "test = create_features(extract_year_range(data_df, 2015, 6, 2016, 1))\n",
    "print train.shape, test.shape"
   ]
  },
  {
   "cell_type": "markdown",
   "metadata": {},
   "source": [
    "# Phase 6: Model Selection <a id = \"pp6\"></a>\n",
    "\n",
    "Model selection is a very important part of this project. We wanted to have a supervised model with the ability to quickly tuning the parameters to retrieve best result. \n",
    "\n",
    "We did our research and found a Master thesis. [1] In his paper, he tried several different models and finally draws the conclusion that adaboosted decision tree has the best result out of regular decision tree, random forest and adaboosted decision tree model. \n",
    "\n",
    "With this conclusion, we paid extra notice on tuning and making the adaboost decision tree model. Meanwhile, we also tried SVM model, which was not identified by that thesis.\n",
    "\n",
    "Two model with the parameter tuning functions here. \n",
    "\n",
    "But before we do any implementation, we need to have the error function which is going to be used by tuning process. \n",
    "In this project, we choose **Root Mean Squared Logarithmic Error** (RMSLE) to be our tuning panalty function. \n",
    "\n",
    "The RMSLE error is defined as follows:\n",
    "\n",
    "$\\epsilon = \\sqrt{\\frac{1}{n} \\sum_{i=1}^n (\\log(p_i + 1) - \\log(a_i+1))^2 }$\n",
    "\n",
    "It should be noted that we tend to more favorable to an overestimate bicycle usage count other than the underestimate one. Because we could afford some bicycle is not being used -- even though we definitely loves to have exact number of prediction -- other than to have shortage of bicycle when people need them. \n",
    "\n",
    "RMSLE error just have the same property as we want it to have: It penalizes an under-predicted estimate greater than an over-predicted estimate. This is the reason we pick it as the panalty function of the parameter tuning.\n"
   ]
  },
  {
   "cell_type": "code",
   "execution_count": 17,
   "metadata": {
    "collapsed": true
   },
   "outputs": [],
   "source": [
    "# Function to calculate RMSLE\n",
    "def rmsle(estimatevalue, realvalue):\n",
    "    result = np.mean((np.log(np.array(estimatevalue) + 1)-np.log(np.array(realvalue) + 1))**2)\n",
    "    return np.sqrt(result)"
   ]
  },
  {
   "cell_type": "markdown",
   "metadata": {},
   "source": [
    "Now we can start to tune the parameter of the Adaboost Decision Tree model. We first tried to use the package of the gridsearchCV function in the sklearn library. Yet it runs too slow so we have to implement the cross validataion from scretch. \n",
    "\n",
    "We also find the problem that there are in total 5 arguments for adaboosted decision tree. 3 for the decision tree and 2 for the adaboost. If we put them all together to tune, we would have a $O(n^5)$ time complexity and it is highly undesirable. \n",
    "\n",
    "Therefore, we use a two-step tuning here. First we tune the parameter of the decision tree model and find the best-fit out of the model. Then we use the best set of the parameters we have to tune the adaboost model. And that's where we finalized the parameter set. \n",
    "\n",
    "So now we would start with the decision tree model tuning.\n",
    "\n",
    "The idea is simply using k-fold. For each combination of the parameters, we use cross validataion to have an average error of this parameter. Then find the set of parameter which has the smallest error and take it as our best fit.\n",
    "\n",
    "It note to mention that we started from a larger range of parameter with larger step. Then find the smaller area of the parameters and have smaller range of parameter with smaller step. The choose of the following set is the last set of the choice."
   ]
  },
  {
   "cell_type": "code",
   "execution_count": 18,
   "metadata": {
    "collapsed": true
   },
   "outputs": [],
   "source": [
    "def decision_tree_cv(df, maxTreeDepth, minTreeSplit, minTreeNodeSample, fold_num = 10):\n",
    "    error = 0\n",
    "    kf = cross_validation.KFold(df.shape[0], n_folds=fold_num)\n",
    "    Bestset = [0,0,0]\n",
    "    Errorset = []\n",
    "    print \"Start CV\"\n",
    "    for depth in maxTreeDepth:\n",
    "        for split in minTreeSplit:\n",
    "            for nodenum in minTreeNodeSample:\n",
    "                avgerror = 0\n",
    "                avgrmsderror = 0\n",
    "                for train_index, test_index in kf:\n",
    "                    # Get Train set & Test set\n",
    "                    x_train, x_test = df.iloc[train_index].drop('count', axis = 1), df.iloc[test_index].drop('count', axis = 1)\n",
    "                    y_train, y_test = df.iloc[train_index]['count'], df.iloc[test_index]['count']\n",
    "                    # Acquire the Prediction of the data\n",
    "                    clf = DecisionTreeRegressor(max_depth=depth, min_samples_leaf=nodenum, min_samples_split=split)\n",
    "                    # clf = AdaBoostRegressor(DecisionTreeRegressor(max_depth=depth, min_samples_leaf=nodenum, min_samples_split=split), n_estimators=300, random_state=rng)\n",
    "                    clf = clf.fit(x_train, y_train)\n",
    "                    estimatevalue = clf.predict(x_test)\n",
    "                    #rmsderror = self.rmsd(estimatevalue, y_test)\n",
    "                    error = rmsle(estimatevalue, y_test)\n",
    "                    #print error\n",
    "                    avgerror = avgerror + error\n",
    "                    #avgrmsderror = avgrmsderror + rmsderror\n",
    "                avgerror = avgerror/fold_num\n",
    "                #avgrmsderror = avgrmsderror/fold_num\n",
    "                #print \"/t\", avgerror\n",
    "                #print \"Depth is\",depth,\"Split is\", split,\"Node Number is\",nodenum, \"Average error is\", avgerror, \"Min error is\", min(Errorset)\n",
    "                Errorset.append(avgerror)\n",
    "                print \"Depth is\",depth,\"Split is\", split,\"Node Number is\",nodenum, \"Average error is\", avgerror, \"Min error is\", min(Errorset)\n",
    "                if min(Errorset)==avgerror:\n",
    "                    Bestset[0] = depth\n",
    "                    Bestset[1] = split\n",
    "                    Bestset[2] = nodenum\n",
    "                    #print avgrmsderror\n",
    "                #print Bestset\n",
    "\n",
    "    print min(Errorset)\n",
    "    print \"CV Finished\"\n",
    "    return Bestset"
   ]
  },
  {
   "cell_type": "code",
   "execution_count": 23,
   "metadata": {
    "collapsed": false
   },
   "outputs": [
    {
     "name": "stdout",
     "output_type": "stream",
     "text": [
      "Start CV\n",
      "Depth is 12 Split is 30 Node Number is 15 Average error is 0.44256132379 Min error is 0.44256132379\n",
      "Depth is 12 Split is 31 Node Number is 15 Average error is 0.442708261602 Min error is 0.44256132379\n",
      "Depth is 12 Split is 32 Node Number is 15 Average error is 0.441670726896 Min error is 0.441670726896\n",
      "Depth is 12 Split is 33 Node Number is 15 Average error is 0.442001206176 Min error is 0.441670726896\n",
      "Depth is 12 Split is 34 Node Number is 15 Average error is 0.442984594639 Min error is 0.441670726896\n",
      "Depth is 12 Split is 35 Node Number is 15 Average error is 0.441847905671 Min error is 0.441670726896\n",
      "Depth is 12 Split is 36 Node Number is 15 Average error is 0.442252744175 Min error is 0.441670726896\n",
      "Depth is 12 Split is 37 Node Number is 15 Average error is 0.443002949963 Min error is 0.441670726896\n",
      "Depth is 12 Split is 38 Node Number is 15 Average error is 0.441626876356 Min error is 0.441626876356\n",
      "Depth is 12 Split is 39 Node Number is 15 Average error is 0.443236165211 Min error is 0.441626876356\n",
      "Depth is 13 Split is 30 Node Number is 15 Average error is 0.442497197796 Min error is 0.441626876356\n",
      "Depth is 13 Split is 31 Node Number is 15 Average error is 0.44224026451 Min error is 0.441626876356\n",
      "Depth is 13 Split is 32 Node Number is 15 Average error is 0.441072461313 Min error is 0.441072461313\n",
      "Depth is 13 Split is 33 Node Number is 15 Average error is 0.442617063981 Min error is 0.441072461313\n",
      "Depth is 13 Split is 34 Node Number is 15 Average error is 0.440992363649 Min error is 0.440992363649\n",
      "Depth is 13 Split is 35 Node Number is 15 Average error is 0.441504379613 Min error is 0.440992363649\n",
      "Depth is 13 Split is 36 Node Number is 15 Average error is 0.44096374979 Min error is 0.44096374979\n",
      "Depth is 13 Split is 37 Node Number is 15 Average error is 0.441077911534 Min error is 0.44096374979\n",
      "Depth is 13 Split is 38 Node Number is 15 Average error is 0.441363612943 Min error is 0.44096374979\n",
      "Depth is 13 Split is 39 Node Number is 15 Average error is 0.441867767252 Min error is 0.44096374979\n",
      "0.44096374979\n",
      "CV Finished\n"
     ]
    },
    {
     "data": {
      "text/plain": [
       "[13, 36, 15]"
      ]
     },
     "execution_count": 23,
     "metadata": {},
     "output_type": "execute_result"
    }
   ],
   "source": [
    "maxTreeDepth = range(12,14,1)\n",
    "minTreeSplit = range(30,40,1)\n",
    "minTreeNodeSample = range(15,16,1)\n",
    "\n",
    "decision_tree_cv(train, maxTreeDepth, minTreeSplit, minTreeNodeSample, 10)"
   ]
  },
  {
   "cell_type": "markdown",
   "metadata": {},
   "source": [
    "Now we have the best set of the decision tree. Next set of parameters would be the adaboost part. The logic is almost the same here. So let's go with the code directly."
   ]
  },
  {
   "cell_type": "code",
   "execution_count": 24,
   "metadata": {
    "collapsed": true
   },
   "outputs": [],
   "source": [
    "def adaboost_dt_cv(df, Bestset, learnRateSet, Treenumset, rng, fold_num = 10):\n",
    "    fold_num = 10\n",
    "    error = 0\n",
    "    md, msl, mss = Bestset\n",
    "    \n",
    "    kf = cross_validation.KFold(df.shape[0], n_folds=fold_num)  \n",
    "    #learnRateSet = np.linspace(0.1,1,20)\n",
    "    \n",
    "    Errorset = []\n",
    "    Bestadaboost = [0,0]\n",
    "    print \"Start Tune Adaboost\"\n",
    "    for treenum in Treenumset:\n",
    "        for learnrate in learnRateSet:\n",
    "            avgerror = 0\n",
    "            for train_index, test_index in kf:\n",
    "                # Get Train set & Test set\n",
    "                x_train, x_test = df.iloc[train_index].drop('count', axis = 1), df.iloc[test_index].drop('count', axis = 1)\n",
    "                y_train, y_test = df.iloc[train_index]['count'], df.iloc[test_index]['count']\n",
    "                clf = AdaBoostRegressor(DecisionTreeRegressor(max_depth=md, min_samples_leaf=msl, min_samples_split=mss), n_estimators=treenum, learning_rate=learnrate, random_state=rng)\n",
    "                clf = clf.fit(x_train, y_train)\n",
    "                estimatevalue = clf.predict(x_test)\n",
    "                error = rmsle(estimatevalue, y_test)\n",
    "                avgerror = avgerror + error\n",
    "            avgerror = avgerror/fold_num\n",
    "            Errorset.append(avgerror)\n",
    "            if min(Errorset)==avgerror:\n",
    "                Bestadaboost[0] = treenum\n",
    "                Bestadaboost[1] = learnrate\n",
    "            print treenum, learnrate, avgerror, Bestadaboost\n",
    "    print Errorset\n",
    "    print \"Adaboost tune Finish!\"\n",
    "    return Bestadaboost"
   ]
  },
  {
   "cell_type": "code",
   "execution_count": 26,
   "metadata": {
    "collapsed": false
   },
   "outputs": [
    {
     "name": "stdout",
     "output_type": "stream",
     "text": [
      "Start Tune Adaboost\n",
      "55 0.04 0.419466538052 [55, 0.040000000000000001]\n",
      "55 0.045 0.41761854605 [55, 0.044999999999999998]\n",
      "55 0.05 0.416231834433 [55, 0.050000000000000003]\n",
      "55 0.055 0.416591449797 [55, 0.050000000000000003]\n",
      "55 0.06 0.415882838296 [55, 0.059999999999999998]\n",
      "56 0.04 0.417796980803 [55, 0.059999999999999998]\n",
      "56 0.045 0.416917981354 [55, 0.059999999999999998]\n",
      "56 0.05 0.41624167598 [55, 0.059999999999999998]\n",
      "56 0.055 0.416370208541 [55, 0.059999999999999998]\n",
      "56 0.06 0.415203137834 [56, 0.059999999999999998]\n",
      "57 0.04 0.416646808955 [56, 0.059999999999999998]\n",
      "57 0.045 0.418405462358 [56, 0.059999999999999998]\n",
      "57 0.05 0.415878858461 [56, 0.059999999999999998]\n",
      "57 0.055 0.415180603162 [57, 0.055]\n",
      "57 0.06 0.416501290695 [57, 0.055]\n",
      "58 0.04 0.417921636419 [57, 0.055]\n",
      "58 0.045 0.41576852408 [57, 0.055]\n",
      "58 0.05 0.41621966359 [57, 0.055]\n",
      "58 0.055 0.413978800322 [58, 0.055]\n",
      "58 0.06 0.417001641714 [58, 0.055]\n",
      "59 0.04 0.417527281498 [58, 0.055]\n",
      "59 0.045 0.418439094925 [58, 0.055]\n",
      "59 0.05 0.416805551731 [58, 0.055]\n",
      "59 0.055 0.4154413036 [58, 0.055]\n",
      "59 0.06 0.413937607624 [59, 0.059999999999999998]\n",
      "60 0.04 0.418128663946 [59, 0.059999999999999998]\n",
      "60 0.045 0.416178292223 [59, 0.059999999999999998]\n",
      "60 0.05 0.418536556669 [59, 0.059999999999999998]\n",
      "60 0.055 0.416146784181 [59, 0.059999999999999998]\n",
      "60 0.06 0.414252143313 [59, 0.059999999999999998]\n",
      "61 0.04 0.416663152243 [59, 0.059999999999999998]\n",
      "61 0.045 0.41645215899 [59, 0.059999999999999998]\n",
      "61 0.05 0.415543840077 [59, 0.059999999999999998]\n",
      "61 0.055 0.414905989725 [59, 0.059999999999999998]\n",
      "61 0.06 0.415834057078 [59, 0.059999999999999998]\n",
      "62 0.04 0.418266515631 [59, 0.059999999999999998]\n",
      "62 0.045 0.415883029319 [59, 0.059999999999999998]\n",
      "62 0.05 0.415496402957 [59, 0.059999999999999998]\n",
      "62 0.055 0.415035310833 [59, 0.059999999999999998]\n",
      "62 0.06 0.416219644444 [59, 0.059999999999999998]\n",
      "63 0.04 0.417735974942 [59, 0.059999999999999998]\n",
      "63 0.045 0.416272566101 [59, 0.059999999999999998]\n",
      "63 0.05 0.416663678644 [59, 0.059999999999999998]\n",
      "63 0.055 0.415279808239 [59, 0.059999999999999998]\n",
      "63 0.06 0.417548277 [59, 0.059999999999999998]\n",
      "64 0.04 0.418739786264 [59, 0.059999999999999998]\n",
      "64 0.045 0.416888521179 [59, 0.059999999999999998]\n",
      "64 0.05 0.415955877722 [59, 0.059999999999999998]\n",
      "64 0.055 0.414530303132 [59, 0.059999999999999998]\n",
      "64 0.06 0.417771323949 [59, 0.059999999999999998]\n",
      "[0.41946653805171313, 0.41761854604961313, 0.41623183443337303, 0.41659144979742546, 0.41588283829604905, 0.41779698080321259, 0.41691798135374603, 0.41624167598012879, 0.41637020854056211, 0.4152031378342797, 0.4166468089551425, 0.41840546235815557, 0.41587885846088735, 0.41518060316237743, 0.41650129069528746, 0.41792163641937075, 0.41576852408032883, 0.41621966358984502, 0.41397880032168982, 0.41700164171383358, 0.41752728149836732, 0.41843909492533049, 0.41680555173129435, 0.41544130360001691, 0.41393760762366316, 0.41812866394602316, 0.41617829222346137, 0.41853655666934308, 0.41614678418120665, 0.41425214331327675, 0.41666315224279604, 0.4164521589901663, 0.41554384007728462, 0.41490598972491399, 0.4158340570782405, 0.41826651563099337, 0.41588302931909826, 0.41549640295650991, 0.41503531083265582, 0.41621964444381243, 0.41773597494243531, 0.41627256610062552, 0.41666367864441511, 0.41527980823947069, 0.41754827700011637, 0.418739786264059, 0.41688852117852981, 0.41595587772161113, 0.4145303031323202, 0.41777132394948885]\n",
      "Adaboost tune Finish!\n"
     ]
    },
    {
     "data": {
      "text/plain": [
       "[59, 0.059999999999999998]"
      ]
     },
     "execution_count": 26,
     "metadata": {},
     "output_type": "execute_result"
    }
   ],
   "source": [
    "bestset = [13, 36, 15]\n",
    "# learnRateSet = [0.05]\n",
    "learnRateSet = np.linspace(0.04,0.06,5)\n",
    "Treenumset = range(55,65,1)\n",
    "rng = np.random.RandomState(1)\n",
    "adaboost_dt_cv(test, bestset, learnRateSet, Treenumset, rng, 10)"
   ]
  },
  {
   "cell_type": "markdown",
   "metadata": {},
   "source": [
    "So now we have the best set of parameter we can have. The rest of the project is to use this set of parameter to train and test our model."
   ]
  },
  {
   "cell_type": "code",
   "execution_count": null,
   "metadata": {
    "collapsed": true
   },
   "outputs": [],
   "source": [
    "# SVM parameters tune"
   ]
  },
  {
   "cell_type": "code",
   "execution_count": null,
   "metadata": {
    "collapsed": true
   },
   "outputs": [],
   "source": [
    "def svm_cv(df,  maxC, gamma_set, epsilon_set, fold_num = 10):\n",
    "    error = 0\n",
    "    kf = cross_validation.KFold(df.shape[0], n_folds=fold_num)\n",
    "#      maxC = range(11,30,2)\n",
    "#     gamma_set = range(1,20,2)\n",
    "#     epsilon_set = range(2,10,2)\n",
    "    Bestset = [0,0,0]\n",
    "    Errorset = []\n",
    "    print \"Start CV for SVM\"\n",
    "    for pen_C in  maxC:\n",
    "        for gam in gamma_set:\n",
    "            for ep in epsilon_set:\n",
    "                avgerror = 0\n",
    "                avgrmsderror = 0\n",
    "                for train_index, test_index in kf:\n",
    "                    # Get Train set & Test set\n",
    "                    x_train, x_test = df.iloc[train_index].drop('count', axis = 1), df.iloc[test_index].drop('count', axis = 1)\n",
    "                    y_train, y_test = df.iloc[train_index]['count'], df.iloc[test_index]['count']\n",
    "                    # Acquire the Prediction of the data\n",
    "                    clf = svm.SVR(C=pen_C, gamma=gam, epsilon=ep)\n",
    "                    # clf = AdaBoostRegressor(DecisionTreeRegressor(max_depth=pen_C, min_samples_leaf=ep, min_samples_split=gam), n_estimators=300, random_state=rng)\n",
    "                    clf = clf.fit(x_train, y_train)\n",
    "                    estimatevalue = clf.predict(x_test)\n",
    "                    #rmsderror = self.rmsd(estimatevalue, y_test)\n",
    "                    error = rmsle(estimatevalue, y_test)\n",
    "                    #print error\n",
    "                    avgerror = avgerror + error\n",
    "                    #avgrmsderror = avgrmsderror + rmsderror\n",
    "                avgerror = avgerror/fold_num\n",
    "                #avgrmsderror = avgrmsderror/fold_num\n",
    "                #print \"/t\", avgerror\n",
    "                Errorset.append(avgerror)\n",
    "                print \"Penalty parameter C of the error term is \",pen_C,\"Kernel coefficient  is\", gam,\"epsilon-tube is\",ep, \"Average error is\", avgerror, \"Min error is\", min(Errorset)\n",
    "                if min(Errorset)==avgerror:\n",
    "                    Bestset[0] = pen_C\n",
    "                    Bestset[1] = gam\n",
    "                    Bestset[2] = ep\n",
    "                    #print avgrmsderror\n",
    "                #print Bestset\n",
    "\n",
    "    print min(Errorset)\n",
    "    print \"SVM CV Finished\"\n",
    "    return Bestset"
   ]
  },
  {
   "cell_type": "code",
   "execution_count": null,
   "metadata": {
    "collapsed": true
   },
   "outputs": [],
   "source": [
    "# C_set = range(95,120,1)\n",
    "# C_set = range(98,102,1)\n",
    "# gamma_set = range(30,40,1)\n",
    "# ep_set = range(15,16,1)\n",
    "\n",
    "# svm_cv(train, C_set, gamma_set, ep_set, 10)"
   ]
  },
  {
   "cell_type": "markdown",
   "metadata": {},
   "source": [
    "Since tune the parameters for SVM is very time-consuming, we just paste the process and result screenshots as below￼, we have attempted several range and times, the screenshots are two of the attempts. Now we have the best set of the SVM."
   ]
  },
  {
   "cell_type": "markdown",
   "metadata": {
    "collapsed": false,
    "scrolled": true
   },
   "source": [
    "<img src=\"graph/svm_para0.png\">"
   ]
  },
  {
   "cell_type": "markdown",
   "metadata": {
    "collapsed": false
   },
   "source": [
    "<img src=\"graph/svm_para2.png\">"
   ]
  },
  {
   "cell_type": "code",
   "execution_count": null,
   "metadata": {
    "collapsed": true
   },
   "outputs": [],
   "source": [
    "# Compare models \n",
    "svm_res = []\n",
    "dec_res = []\n",
    "path = \"./data_by_cluster/\"\n",
    "for filename in os.listdir(path):\n",
    "    df = pd.read_csv(path+filename)\n",
    "    # convert data to correct type:\n",
    "    df = convert_type(df)\n",
    "    df_train = extract_train(df)\n",
    "    df_test = extract_test(df)\n",
    "    df_train_feature = create_features(df_train)\n",
    "    df_test_feature = create_features(df_test)\n",
    "    X_train = df_train_feature.drop('count', 1).values\n",
    "    y_train = df_train_feature['count'].values\n",
    "\n",
    "    # SVM\n",
    "    print \"SVM running\"\n",
    "    # eps = np.arange(9,10.1,0.1).tolist()\n",
    "    # tols = np.arange(2,3.1,0.1).tolist()\n",
    "    # gamma = np.arange(0.5,1.1,0.1).tolist()\n",
    "    #eps = [1e-10, 1e-9, 1e-8, 1e-7, 1e-6, 1e-5, 1e-4, 1e-3, 1e-2, 1e-1]\n",
    "    Bestset_svm = [13, 30, 15]\n",
    "    svr = svm.SVR(Bestset_svm[0], Bestset_svm[1], Bestset_svm[2])\n",
    "    #print svr.get_params()\n",
    "    clf = svr.fit(X_train, y_train)\n",
    "    X_test = df_test_feature.drop('count', 1).values\n",
    "    # print X_test[:10]\n",
    "    y_test = df_test_feature['count'].values\n",
    "\n",
    "    y_pred = clf.predict(X_test)\n",
    "    y_pred = [max(0,x) for x in y_pred]\n",
    "    x_sample = range(len(y_pred))\n",
    "\n",
    "    res = calculate_mse(y_pred, y_test)\n",
    "    svm_res.append(res)\n",
    "\n",
    "    #decision tree\n",
    "    print \"bike predictor-decision tree\"\n",
    "    Bestset = [13, 31, 15]\n",
    "    Bestadaboost = [58, 0.05999]\n",
    "    rng = np.random.RandomState(1)\n",
    "\n",
    "    clf = AdaBoostRegressor(\n",
    "        DecisionTreeRegressor(max_depth=Bestset[0], min_samples_split=Bestset[1], min_samples_leaf=Bestset[2]),\n",
    "        n_estimators=Bestadaboost[0], learning_rate=Bestadaboost[1], random_state=rng)\n",
    "    clf = clf.fit(X_train, y_train)\n",
    "\n",
    "    y_pred = clf.predict(X_test)\n",
    "    res = calculate_mse(y_pred, y_test)\n",
    "    dec_res.append(res)\n",
    "\n",
    "print svm_res\n",
    "print dec_res\n",
    "\n",
    "x_sample = range(len(svm_res))\n",
    "plt.scatter(x_sample, svm_res, color='b')\n",
    "plt.scatter(x_sample, dec_res, color='r')\n",
    "plt.ylabel('Mean Squared Error (MSE)')\n",
    "plt.xlabel('Cluster ID')\n",
    "\n",
    "text = iter(['SVM',  'Decision Tree'])\n",
    "\n",
    "\n",
    "mpl_fig = plt.gcf()\n",
    "plotly_fig = tls.mpl_to_plotly( mpl_fig )\n",
    "\n",
    "for dat in plotly_fig['data']:\n",
    "    t = text.next()\n",
    "    dat.update({'name': t, 'text':t})\n",
    "\n",
    "plotly_fig['layout']['showlegend'] = True\n",
    "py.plot(plotly_fig)\n",
    "plt.show() # the plot reslut is thourough plotly, so we paste image as below"
   ]
  },
  {
   "cell_type": "markdown",
   "metadata": {},
   "source": [
    "The result of comparison of SVM with Decision Tree as below, compare with MSE, clearly we would choose Adaboost Decision Tree Model for out next phase"
   ]
  },
  {
   "cell_type": "markdown",
   "metadata": {
    "collapsed": false
   },
   "source": [
    "<img src=\"graph/plot from API (14).png\">"
   ]
  },
  {
   "cell_type": "markdown",
   "metadata": {},
   "source": [
    "# Phase 7: Running the Adaboost Decision Tree Model & Result analysis <a id = \"pp7\"></a>\n",
    "\n"
   ]
  },
  {
   "cell_type": "markdown",
   "metadata": {},
   "source": [
    "After tuning the adaboost model and finally getting the optimal parameters, we train the data from 2012/1/1 to 2015/5/31 and predict the test data from 2015/6/1 to 2015/12/31. The result is saved as a csv file."
   ]
  },
  {
   "cell_type": "code",
   "execution_count": null,
   "metadata": {
    "collapsed": true
   },
   "outputs": [],
   "source": [
    "def extract_train(df):  # 2012,1-2015,6\n",
    "    df_train = df.loc[(df['date'] >= '2012-1-1') & (df['date'] < '2015-6-1')].reset_index(drop=True)\n",
    "    return df_train\n",
    "\n",
    "def extract_test(df):  # 2015,6-2015,12\n",
    "    df_test = df.loc[(df['date'] >= '2015-6-1') & (df['date'] < '2016-1-1')].reset_index(drop=True)\n",
    "    return df_test"
   ]
  },
  {
   "cell_type": "code",
   "execution_count": null,
   "metadata": {
    "collapsed": true
   },
   "outputs": [],
   "source": [
    "filename = 'data/separate_hour_data_with_weather.csv'\n",
    "df = pd.read_csv(filename)\n",
    "df = convert_type(df)\n",
    "df_train = extract_train(df)\n",
    "df_test = extract_test(df)\n",
    "\n",
    "df_train_feature = create_features(df_train)\n",
    "\n",
    "df_test_feature = create_features(df_test)\n",
    "\n",
    "X_train = df_train_feature.drop('count', 1).values\n",
    "y_train = df_train_feature['count'].values\n",
    "\n",
    "X_test = df_test_feature.drop('count', 1).values\n",
    "y_test = df_test_feature['count'].values\n",
    "\n",
    "\n",
    "Bestset = [13, 31, 15]\n",
    "Bestadaboost = [59, 0.05999]\n",
    "\n",
    "rng = np.random.RandomState(1)\n",
    "\n",
    "clf = AdaBoostRegressor(\n",
    "    DecisionTreeRegressor(max_depth=Bestset[0], min_samples_split=Bestset[1], min_samples_leaf=Bestset[2]),\n",
    "    n_estimators=Bestadaboost[0], learning_rate=Bestadaboost[1], random_state=rng)\n",
    "# clf = AdaBoostRegressor(DecisionTreeRegressor(max_depth=Bestset[0], min_samples_split=Bestset[1], min_samples_leaf = Bestset[2]), n_estimators=Bestadaboost[0], learning_rate=Bestadaboost[1], random_state=rng)\n",
    "# clf = DecisionTreeRegressor(max_depth=Bestset[0], min_samples_split=Bestset[1], min_samples_leaf = Bestset[2])\n",
    "clf = clf.fit(X_train, y_train)\n",
    "\n",
    "y_pred = clf.predict(X_test)\n",
    "df_test['predict_count'] = y_pred\n",
    "df_test.to_csv(filename.split('.')[0] + \"_with_prediction.csv\", index=False)"
   ]
  },
  {
   "cell_type": "markdown",
   "metadata": {},
   "source": [
    "Now, we can start analyzing the data from the real data with a predicted number of bikes.\n",
    "\n",
    "First, we analyze the daily number of bikes we predict and compare it with the real number in history every month from June to December.\n",
    "We also want to compare the accuracy score between each months. \n",
    "\n",
    "According the [Root Mean Square Deviation on Wikipedia](https://en.wikipedia.org/wiki/Root-mean-square_deviation), the normalized mean squared deviation (MSD) can be calculated by \n",
    "\n",
    "$$normalized\\, MSD = \\cfrac{MSD}{average \\,number \\,of \\,bikes \\,in \\,a \\,day}$$\n",
    "\n",
    "So the accuracy score is computed by\n",
    "\n",
    "$$ accuracy\\,score = 1 - normalized\\,MSD $$"
   ]
  },
  {
   "cell_type": "code",
   "execution_count": null,
   "metadata": {
    "collapsed": true
   },
   "outputs": [],
   "source": [
    "filename = 'data/separate_hour_data_with_weather_with_prediction.csv'\n",
    "df = pd.read_csv(filename)\n",
    "df = convert_type(df)\n",
    "date_cnt = df.groupby(by=['date'], as_index=False)['count', 'predict_count'].sum()\n",
    "\n",
    "accu = []\n",
    "num_days = [0, 31, 28, 31, 30, 31, 30, 31, 31, 30, 31, 30, 31]\n",
    "for m in range(6,13):\n",
    "    month_cnt = extract_month(date_cnt, m)\n",
    "    cnt = month_cnt['count'].sum()\n",
    "    dates = month_cnt['date'].tolist()\n",
    "    plt.title(\"Daily # of Bikes in \" + calendar.month_name[m])\n",
    "    plt.ylabel('# of bikes')\n",
    "    plt.xlabel('date')\n",
    "    plt.gca().xaxis.set_major_formatter(mdates.DateFormatter('%d'))\n",
    "    plt.gca().xaxis.set_major_locator(mdates.DayLocator())\n",
    "    plt.gcf().autofmt_xdate()\n",
    "    plt.bar(dates, month_cnt['count'].tolist(), color = 'r')\n",
    "    plt.plot(dates, month_cnt['predict_count'].tolist(), color = 'b')\n",
    "\n",
    "    plt.savefig('graph/' + str(m) +'.png')\n",
    "    plt.gcf().clear()\n",
    "    #plt.show()\n",
    "    accu.append(1 - calculate_msd(month_cnt['count'], month_cnt['predict_count']) / (float(cnt) / num_days[m]))\n",
    "\n",
    "plt.title(\"Accuracy Score in each Month\")\n",
    "plt.ylabel('Accuracy Score')\n",
    "plt.xlabel('Month')\n",
    "plt.scatter(range(6,13), accu, color='b')\n",
    "plt.savefig('graph/accu.png')\n",
    "plt.gcf().clear()"
   ]
  },
  {
   "cell_type": "markdown",
   "metadata": {},
   "source": [
    "The daily number of bikes every month in the test data (2015/6/1 - 2015/12/13) is below. \n",
    "\n",
    "Note that the red bar is the real data and the blue line is data based on Adaboost-Decision Tree prediction."
   ]
  },
  {
   "cell_type": "markdown",
   "metadata": {},
   "source": [
    "<img src=\"graph/6.png\">\n",
    "<img src=\"graph/7.png\">\n",
    "<img src=\"graph/8.png\">\n",
    "<img src=\"graph/9.png\">\n",
    "<img src=\"graph/10.png\">\n",
    "<img src=\"graph/11.png\">\n",
    "<img src=\"graph/12.png\">"
   ]
  },
  {
   "cell_type": "markdown",
   "metadata": {},
   "source": [
    "The accuracy score in each month is plotted as the following graph.\n",
    "<img src=\"graph/accu.png\">\n",
    "From the graph above, we can see that only on holiday seasons (Nov. and Dec.), the accuracy score becomes slightly off (< 0.85); in regular months, the accuracy score is above 0.85."
   ]
  },
  {
   "cell_type": "markdown",
   "metadata": {},
   "source": [
    "Next, we are interested in the question:\n",
    "\n",
    "__Does the accuracy score differs between a cluster in the center of Washington DC and in the suburb?__\n",
    "\n",
    "We choose cluster 5 as the center and cluster 8 as the suburb and we choose only the data in September to compare the predicted results in the center and in the suburb since the accuracy score is highest in September.\n",
    "\n",
    "The predicted result of daily number of bikes in September is shown below:\n",
    "<img src=\"graph/center.png\">\n",
    "<img src=\"graph/suburb.png\">"
   ]
  },
  {
   "cell_type": "markdown",
   "metadata": {},
   "source": [
    "We can also compare the accuracy score in the center and in the suburb.\n",
    "<img src=\"graph/cluster_cmp_mon_accu.png\">\n",
    "\n",
    "In the comparison above, we find that the accuracy score in the center is higher than in the suburb. The reason could be that there are more people biking in the center, which leads to bigger amount of data and improves the accuracy of prediction. "
   ]
  },
  {
   "cell_type": "markdown",
   "metadata": {},
   "source": [
    "Finally, we are curious about how the prediction and the accuracy score could be between a weekday and a weekend.\n",
    "So we choose a weekday (2015/9/22) and a weekend (2015/9/20) to compare."
   ]
  },
  {
   "cell_type": "code",
   "execution_count": null,
   "metadata": {
    "collapsed": true
   },
   "outputs": [],
   "source": [
    "def extract_date(df, start_mon, start_date, end_mon, end_date):\n",
    "    df_mon = df.loc[(df['date'] >= '2015-'+str(start_mon)+ \"-\" + str(start_date)) & (df['date'] < '2015-' + str(end_mon) + \"-\" + str(end_date))].reset_index(drop=True)\n",
    "    return df_mon\n",
    "def extract_cluster(df, label):\n",
    "    df_cluster = df.loc[df['label'] == label].reset_index(drop=True)\n",
    "    return df_cluster"
   ]
  },
  {
   "cell_type": "code",
   "execution_count": null,
   "metadata": {
    "collapsed": true
   },
   "outputs": [],
   "source": [
    "filename = 'data/separate_hour_data_with_weather_with_prediction.csv'\n",
    "df = pd.read_csv(filename)\n",
    "df = convert_type(df)\n",
    "df_weekday = extract_date(df, 9, 22, 9, 23)\n",
    "df_weekend = extract_date(df, 9, 20, 9, 21)\n",
    "\n",
    "df_weekday_city = extract_cluster(df_weekday, 5)\n",
    "df_weekday_sub = extract_cluster(df_weekday, 8)\n",
    "df_weekend_city = extract_cluster(df_weekend, 5)\n",
    "df_weekend_sub = extract_cluster(df_weekend, 8)\n",
    "\n",
    "cnt_weekday_city = df_weekday_city['count'].sum()\n",
    "cnt_weekday_sub = df_weekday_sub['count'].sum()\n",
    "cnt_weekend_city = df_weekend_city['count'].sum()\n",
    "cnt_weekend_sub = df_weekend_sub['count'].sum()\n",
    "accu = []\n",
    "hours = range(24)\n",
    "\n",
    "#weekday city\n",
    "df_weekday_city = df_weekday_city.set_index(['hour'])\n",
    "# print df_weekday_city\n",
    "df_weekday_city = df_weekday_city.reindex(hours, fill_value=0)\n",
    "# print df_weekday_city\n",
    "plt.title(\"Hourly # of Bikes in Center - Weekday\")\n",
    "plt.ylabel('# of bikes')\n",
    "plt.xlabel('hour')\n",
    "plt.bar(hours, df_weekday_city['count'].tolist(), color = 'r', align = 'center')\n",
    "plt.plot(hours, df_weekday_city['predict_count'].tolist(), color = 'b')\n",
    "\n",
    "plt.savefig('graph/weekday_center.png')\n",
    "plt.gcf().clear()\n",
    "#plt.show()\n",
    "accu.append(1 - calculate_msd(df_weekday_city['count'], df_weekday_city['predict_count']) / (float(cnt_weekday_city) / 24))\n",
    "\n",
    "#weekday sub\n",
    "df_weekday_sub = df_weekday_sub.set_index(['hour'])\n",
    "# print df_weekday_city\n",
    "df_weekday_sub = df_weekday_sub.reindex(hours, fill_value=0)\n",
    "# print df_weekday_city\n",
    "plt.title(\"Hourly # of Bikes in Suburb - Weekday\")\n",
    "plt.ylabel('# of bikes')\n",
    "plt.xlabel('hour')\n",
    "plt.bar(hours, df_weekday_sub['count'].tolist(), color = 'r', align = 'center')\n",
    "plt.plot(hours, df_weekday_sub['predict_count'].tolist(), color = 'b')\n",
    "\n",
    "plt.savefig('graph/weekday_suburb.png')\n",
    "plt.gcf().clear()\n",
    "accu.append(1 - calculate_msd(df_weekday_sub['count'], df_weekday_sub['predict_count']) / (float(cnt_weekday_sub) / 24))\n",
    "\n",
    "#weekend city\n",
    "df_weekend_city = df_weekend_city.set_index(['hour'])\n",
    "# print df_weekday_city\n",
    "df_weekend_city = df_weekend_city.reindex(hours, fill_value=0)\n",
    "# print df_weekday_city\n",
    "plt.title(\"Hourly # of Bikes in Center - Weekend\")\n",
    "plt.ylabel('# of bikes')\n",
    "plt.xlabel('hour')\n",
    "plt.bar(hours, df_weekend_city['count'].tolist(), color = 'r', align = 'center')\n",
    "plt.plot(hours, df_weekend_city['predict_count'].tolist(), color = 'b')\n",
    "\n",
    "plt.savefig('graph/weekend_center.png')\n",
    "plt.gcf().clear()\n",
    "#plt.show()\n",
    "accu.append(1 - calculate_msd(df_weekend_city['count'], df_weekend_city['predict_count']) / (float(cnt_weekend_city) / 24))\n",
    "\n",
    "\n",
    "#weekend sub\n",
    "df_weekend_sub = df_weekend_sub.set_index(['hour'])\n",
    "# print df_weekday_city\n",
    "df_weekend_sub = df_weekend_sub.reindex(hours, fill_value=0)\n",
    "# print df_weekday_city\n",
    "plt.title(\"Hourly # of Bikes in Suburb - Weekend\")\n",
    "plt.ylabel('# of bikes')\n",
    "plt.xlabel('hour')\n",
    "plt.bar(hours, df_weekend_sub['count'].tolist(), color = 'r', align = 'center')\n",
    "plt.plot(hours, df_weekend_sub['predict_count'].tolist(), color = 'b')\n",
    "\n",
    "plt.savefig('graph/weekend_suburb.png')\n",
    "plt.gcf().clear()\n",
    "#plt.show()\n",
    "accu.append(1 - calculate_msd(df_weekend_sub['count'], df_weekend_sub['predict_count']) / (float(cnt_weekend_sub) / 24))\n",
    "\n",
    "\n",
    "plt.title(\"Accuracy Score - Weekday vs Weekend\")\n",
    "plt.ylabel('Accuracy Score')\n",
    "objects = ('Weekday Center', 'Weekday Suburb', 'Weekend Center', 'Weekend Suburb')\n",
    "y_pos = np.arange(len(objects))\n",
    "\n",
    "plt.xticks(y_pos, objects)\n",
    "plt.bar(y_pos, accu, color='b', align='center', width=0.7)\n",
    "\n",
    "plt.savefig('graph/cluster_cmp_day_accu.png')\n",
    "plt.gcf().clear()\n"
   ]
  },
  {
   "cell_type": "markdown",
   "metadata": {},
   "source": [
    "The results we get are:\n",
    "\n",
    "<img src=\"graph/weekday_center.png\">\n",
    "<img src=\"graph/weekday_suburb.png\">\n",
    "<img src=\"graph/weekend_center.png\">\n",
    "<img src=\"graph/weekend_suburb.png\">\n",
    "\n",
    "From the graphs above, we can see that in both center and suburb, there are two peaks on a weekday and only one peak on a weekend, which is reasonable because people can commute by bikes on a weekday in the morning for work and in the evening afterwork. "
   ]
  },
  {
   "cell_type": "markdown",
   "metadata": {},
   "source": [
    "And the accuracy scores are\n",
    "<img src=\"graph/cluster_cmp_day_accu.png\">\n",
    "\n",
    "Which has an interesting result: \n",
    "\n",
    "In a center, the accuracy score is higher on a weekend than on a weekday. The reason could be that on a weekend, more visitors visit Washington DC and use the bikes to tour. Therefore, the more data we have, the precision on our prediction becomes better."
   ]
  },
  {
   "cell_type": "markdown",
   "metadata": {},
   "source": [
    "# Phase 8: Conclusion <a id = \"pp8\"></a>\n",
    "\n",
    "In summary, in this project, we investigated the data from Capital Bikeshare and Weather Underground API. Tried multiple models including SVM and adaboosted decision tree to train and predict the hourly usage for different district of the Washington D.C. The best prediction can reach around 90% in the best case. \n",
    "\n",
    "We also made analysis on the prediction result depends on the geo-location difference and time variance. With more data, generally it brings more confidence in prediction the future,  but sometimes the more variance in data brings trouble in our prediction, one obvious example is the holiday seasons. Such experience made us realize the usability and limitation of data and model.\n",
    "\n",
    "In a nutshell, we experienced web data collecting, data processing, model selecting, model tuning and result analysis in this project. It included almost every process we could expect in a real life data engineering project, which benefited us a lot. The result is satisfaction in normal cases. For the holiday season, if we can have more information about the traffic during that time, we may have better result and that would be our potential future work."
   ]
  },
  {
   "cell_type": "markdown",
   "metadata": {},
   "source": [
    "# Reference <a id = \"pp9\"></a>\n",
    "\n",
    "[1]. [Datta, Arnab Kumar. \"Predicting bike-share usage patterns with machine learning.\" (2014).](https://www.duo.uio.no/bitstream/handle/10852/42177/mymaster.pdf?sequence=1&isAllowed=y)\n",
    "\n",
    "[2]. [Root Mean Squared Logarithmic Error](https://www.kaggle.com/wiki/RootMeanSquaredLogarithmicError)\n",
    "\n",
    "[3]. [Weather Underground](http://api.wunderground.com/)\n",
    "\n",
    "[4]. [DC Captial Bikeshare](https://www.capitalbikeshare.com/)\n",
    "\n",
    "[5]. [Root Mean Square Deviation on Wikipedia](https://en.wikipedia.org/wiki/Root-mean-square_deviation)"
   ]
  },
  {
   "cell_type": "code",
   "execution_count": null,
   "metadata": {
    "collapsed": true
   },
   "outputs": [],
   "source": []
  }
 ],
 "metadata": {
  "anaconda-cloud": {},
  "kernelspec": {
   "display_name": "Python [Python27]",
   "language": "python",
   "name": "Python [Python27]"
  },
  "language_info": {
   "codemirror_mode": {
    "name": "ipython",
    "version": 2
   },
   "file_extension": ".py",
   "mimetype": "text/x-python",
   "name": "python",
   "nbconvert_exporter": "python",
   "pygments_lexer": "ipython2",
   "version": "2.7.12"
  }
 },
 "nbformat": 4,
 "nbformat_minor": 1
}
